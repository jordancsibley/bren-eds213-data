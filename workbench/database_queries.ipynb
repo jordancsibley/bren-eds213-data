{
 "cells": [
  {
   "cell_type": "markdown",
   "id": "451d77fc-99e0-416a-b97f-a254f8871e3a",
   "metadata": {},
   "source": [
    "## Working with databases in Python \n",
    "\n",
    "May 6, 2025\n",
    "\n",
    "EDS 213 - Databases"
   ]
  },
  {
   "cell_type": "code",
   "execution_count": 1,
   "id": "7508a4d5-9879-4ed1-a86a-07118e9e9148",
   "metadata": {
    "tags": []
   },
   "outputs": [
    {
     "data": {
      "text/plain": [
       "'/Users/jcsibley/MEDS/eds-213-database/bren-eds213-data/workbench'"
      ]
     },
     "execution_count": 1,
     "metadata": {},
     "output_type": "execute_result"
    }
   ],
   "source": [
    "# View working directory \n",
    "%pwd"
   ]
  },
  {
   "cell_type": "code",
   "execution_count": 1,
   "id": "94a96707-f40a-41f4-8166-13d8cdfcaa4e",
   "metadata": {
    "tags": []
   },
   "outputs": [],
   "source": [
    "# Install duckdb \n",
    "# %pip install duckdb\n",
    "\n",
    "import duckdb"
   ]
  },
  {
   "cell_type": "code",
   "execution_count": 8,
   "id": "bf5e4125-d188-46ac-805b-67f212ff38a7",
   "metadata": {
    "tags": []
   },
   "outputs": [
    {
     "name": "stdout",
     "output_type": "stream",
     "text": [
      "10               schema-build-script.sql    tues-week5-slq-wrapup.sql\n",
      "\u001b[0m\u001b[01;32mbuild-database\u001b[0m*  species_test.csv           tues_week3.sql\n",
      "database.db      thurs-week4.sql            tues_week4sql\n",
      "database.sqlite  thurs_week3.sql\n",
      "\u001b[01;34mexport_adsn\u001b[0m/     tues-week5-exportdata.sql\n"
     ]
    }
   ],
   "source": [
    "# View database in directory \n",
    "%ls ~/MEDS/eds-213-database/bren-eds213-data/database/"
   ]
  },
  {
   "cell_type": "code",
   "execution_count": 9,
   "id": "fb5966f8-70d0-4287-9de8-48293ca96211",
   "metadata": {
    "tags": []
   },
   "outputs": [],
   "source": [
    "# Connect to database \n",
    "conn = duckdb.connect(\"~/MEDS/eds-213-database/bren-eds213-data/database/database.db\")"
   ]
  },
  {
   "cell_type": "code",
   "execution_count": 10,
   "id": "b23be035-4b65-471b-ace8-338b7be8f908",
   "metadata": {
    "tags": []
   },
   "outputs": [
    {
     "data": {
      "text/plain": [
       "<duckdb.duckdb.DuckDBPyConnection at 0x7f85fc796a70>"
      ]
     },
     "execution_count": 10,
     "metadata": {},
     "output_type": "execute_result"
    }
   ],
   "source": [
    "conn"
   ]
  },
  {
   "cell_type": "code",
   "execution_count": 11,
   "id": "75524c45-d3ce-484b-84da-a8cb4e2d0d30",
   "metadata": {
    "tags": []
   },
   "outputs": [],
   "source": [
    "cur = conn.cursor()"
   ]
  },
  {
   "cell_type": "code",
   "execution_count": 12,
   "id": "a598e0ec-9e32-4acf-a946-4b5c2deef685",
   "metadata": {
    "tags": []
   },
   "outputs": [
    {
     "data": {
      "text/plain": [
       "<duckdb.duckdb.DuckDBPyConnection at 0x7f85fc6ac8f0>"
      ]
     },
     "execution_count": 12,
     "metadata": {},
     "output_type": "execute_result"
    }
   ],
   "source": [
    "# Notice that this does get you the info you need \n",
    "cur.execute(\"SELECT * FROM Site Limit 3\")"
   ]
  },
  {
   "cell_type": "markdown",
   "id": "0b1b935e-b02c-473b-a315-a73de200d95f",
   "metadata": {},
   "source": [
    "## Method 1: getting al at once using `fetchall`"
   ]
  },
  {
   "cell_type": "code",
   "execution_count": 13,
   "id": "d465245d-f7ff-4de0-9237-f06784f039a5",
   "metadata": {
    "tags": []
   },
   "outputs": [
    {
     "data": {
      "text/plain": [
       "[('barr',\n",
       "  'Barrow',\n",
       "  'Alaska, USA',\n",
       "  71.30000305175781,\n",
       "  -156.60000610351562,\n",
       "  220.39999389648438),\n",
       " ('burn',\n",
       "  'Burntpoint Creek',\n",
       "  'Ontario, Canada',\n",
       "  55.20000076293945,\n",
       "  -84.30000305175781,\n",
       "  63.0),\n",
       " ('bylo',\n",
       "  'Bylot Island',\n",
       "  'Nunavut, Canada',\n",
       "  73.19999694824219,\n",
       "  -80.0,\n",
       "  723.5999755859375)]"
      ]
     },
     "execution_count": 13,
     "metadata": {},
     "output_type": "execute_result"
    }
   ],
   "source": [
    "cur.fetchall()"
   ]
  },
  {
   "cell_type": "markdown",
   "id": "ac4aecb5-106f-4d35-9852-e85f0ed03693",
   "metadata": {},
   "source": [
    "Cursors dont save any results; they're just a pass-through mechanism "
   ]
  },
  {
   "cell_type": "code",
   "execution_count": 14,
   "id": "ef5a73e8-5af4-4591-bd41-4cd9b36afeed",
   "metadata": {
    "tags": []
   },
   "outputs": [
    {
     "data": {
      "text/plain": [
       "[]"
      ]
     },
     "execution_count": 14,
     "metadata": {},
     "output_type": "execute_result"
    }
   ],
   "source": [
    "# This wont give you any info since you ran this above, now it is empty\n",
    "cur.fetchall()"
   ]
  },
  {
   "cell_type": "markdown",
   "id": "535fe9d7-6c97-44c1-b4f8-4af7f359cee8",
   "metadata": {},
   "source": [
    "Cursors always return list of tuples, even 1-tuples "
   ]
  },
  {
   "cell_type": "code",
   "execution_count": 16,
   "id": "46cc0d98-7751-4f62-a162-214843ca3e4c",
   "metadata": {
    "tags": []
   },
   "outputs": [
    {
     "data": {
      "text/plain": [
       "[('barr',), ('burn',), ('bylo',)]"
      ]
     },
     "execution_count": 16,
     "metadata": {},
     "output_type": "execute_result"
    }
   ],
   "source": [
    "cur.execute(\"SELECT Code FROM Site LIMIT 3\")\n",
    "cur.fetchall()"
   ]
  },
  {
   "cell_type": "markdown",
   "id": "530d95c0-cfa4-42b1-8a99-4ff98ba551a6",
   "metadata": {},
   "source": [
    "Pretty common to use a list comprehension to pull out the values more conceniently "
   ]
  },
  {
   "cell_type": "code",
   "execution_count": 17,
   "id": "fd156b2b-0f91-40fa-b43b-b6feb2a7500d",
   "metadata": {
    "tags": []
   },
   "outputs": [
    {
     "data": {
      "text/plain": [
       "['barr', 'burn', 'bylo']"
      ]
     },
     "execution_count": 17,
     "metadata": {},
     "output_type": "execute_result"
    }
   ],
   "source": [
    "cur.execute(\"SELECT Code FROM Site LIMIT 3\")\n",
    "\n",
    "[t[0] for t in cur.fetchall()]"
   ]
  },
  {
   "cell_type": "markdown",
   "id": "dc36dbbd-573f-47fb-9088-be1862cb0aae",
   "metadata": {},
   "source": [
    "## Method 2: Getting one result at a time using `fetchone()`"
   ]
  },
  {
   "cell_type": "code",
   "execution_count": 18,
   "id": "75cb7064-9976-4155-afe6-0f0c73a12b67",
   "metadata": {
    "tags": []
   },
   "outputs": [
    {
     "data": {
      "text/plain": [
       "('barr',)"
      ]
     },
     "execution_count": 18,
     "metadata": {},
     "output_type": "execute_result"
    }
   ],
   "source": [
    "cur.execute(\"SELECT Code FROM Site\")\n",
    "cur.fetchone()"
   ]
  },
  {
   "cell_type": "code",
   "execution_count": 19,
   "id": "431615d0-5dad-4efa-88f3-2c1434b27416",
   "metadata": {
    "tags": []
   },
   "outputs": [
    {
     "data": {
      "text/plain": [
       "('burn',)"
      ]
     },
     "execution_count": 19,
     "metadata": {},
     "output_type": "execute_result"
    }
   ],
   "source": [
    "cur.fetchone()"
   ]
  },
  {
   "cell_type": "code",
   "execution_count": 20,
   "id": "303177f5-1532-4568-9bc4-bb1869b4030b",
   "metadata": {
    "tags": []
   },
   "outputs": [
    {
     "data": {
      "text/plain": [
       "('bylo',)"
      ]
     },
     "execution_count": 20,
     "metadata": {},
     "output_type": "execute_result"
    }
   ],
   "source": [
    "cur.fetchone()"
   ]
  },
  {
   "cell_type": "markdown",
   "id": "24d2a5e1-8dcb-43f4-8ba8-e87d6cd3cedd",
   "metadata": {},
   "source": [
    "Still a tuple, but not a list of things \n",
    "\n",
    "## Method 3: Iterate over a cursor -- sadly not supported by duckdb"
   ]
  },
  {
   "cell_type": "code",
   "execution_count": 21,
   "id": "8a0db18d-8f0e-444b-ae6b-aed52889a776",
   "metadata": {
    "tags": []
   },
   "outputs": [
    {
     "ename": "TypeError",
     "evalue": "'duckdb.duckdb.DuckDBPyConnection' object is not iterable",
     "output_type": "error",
     "traceback": [
      "\u001b[0;31m---------------------------------------------------------------------------\u001b[0m",
      "\u001b[0;31mTypeError\u001b[0m                                 Traceback (most recent call last)",
      "\u001b[0;32m/tmp/ipykernel_45838/4004074374.py\u001b[0m in \u001b[0;36m<module>\u001b[0;34m\u001b[0m\n\u001b[1;32m      1\u001b[0m \u001b[0mcur\u001b[0m\u001b[0;34m.\u001b[0m\u001b[0mexecute\u001b[0m\u001b[0;34m(\u001b[0m\u001b[0;34m\"SELECT Code FROM Site\"\u001b[0m\u001b[0;34m)\u001b[0m\u001b[0;34m\u001b[0m\u001b[0;34m\u001b[0m\u001b[0m\n\u001b[1;32m      2\u001b[0m \u001b[0;34m\u001b[0m\u001b[0m\n\u001b[0;32m----> 3\u001b[0;31m \u001b[0;32mfor\u001b[0m \u001b[0mrow\u001b[0m \u001b[0;32min\u001b[0m \u001b[0mcur\u001b[0m\u001b[0;34m:\u001b[0m\u001b[0;34m\u001b[0m\u001b[0;34m\u001b[0m\u001b[0m\n\u001b[0m\u001b[1;32m      4\u001b[0m     \u001b[0mprint\u001b[0m\u001b[0;34m(\u001b[0m\u001b[0mrow\u001b[0m\u001b[0;34m)\u001b[0m\u001b[0;34m\u001b[0m\u001b[0;34m\u001b[0m\u001b[0m\n",
      "\u001b[0;31mTypeError\u001b[0m: 'duckdb.duckdb.DuckDBPyConnection' object is not iterable"
     ]
    }
   ],
   "source": [
    "cur.execute(\"SELECT Code FROM Site\")\n",
    "\n",
    "for row in cur: \n",
    "    print(row)"
   ]
  },
  {
   "cell_type": "markdown",
   "id": "5fdbd2e5-48cb-42e9-8a9c-9bdeb96a56af",
   "metadata": {},
   "source": [
    "This obviously didn't work, but it would work for other programs "
   ]
  },
  {
   "cell_type": "markdown",
   "id": "e81affbd-cad6-4297-992a-ecb7e4da0727",
   "metadata": {},
   "source": [
    "Can do things other then SELECTs"
   ]
  },
  {
   "cell_type": "code",
   "execution_count": 24,
   "id": "d745a34f-26fd-4f61-adff-d019fab45c9b",
   "metadata": {
    "tags": []
   },
   "outputs": [
    {
     "data": {
      "text/plain": [
       "<duckdb.duckdb.DuckDBPyConnection at 0x7f85fc6ac8f0>"
      ]
     },
     "execution_count": 24,
     "metadata": {},
     "output_type": "execute_result"
    }
   ],
   "source": [
    "cur.execute(\"CREATE TEMP TABLE t AS SELECT * FROM Bird_nests WHERE Nest_ID LIKE '14%' \")"
   ]
  },
  {
   "cell_type": "code",
   "execution_count": 25,
   "id": "db116a1a-6291-4750-90cc-cc3897d3798f",
   "metadata": {
    "tags": []
   },
   "outputs": [
    {
     "data": {
      "text/plain": [
       "[(99,)]"
      ]
     },
     "execution_count": 25,
     "metadata": {},
     "output_type": "execute_result"
    }
   ],
   "source": [
    "cur.fetchall()"
   ]
  },
  {
   "cell_type": "code",
   "execution_count": 27,
   "id": "28c8494b-a3cc-41e1-b739-de45e949020f",
   "metadata": {
    "tags": []
   },
   "outputs": [
    {
     "data": {
      "text/plain": [
       "99"
      ]
     },
     "execution_count": 27,
     "metadata": {},
     "output_type": "execute_result"
    }
   ],
   "source": [
    "cur.execute(\"SELECT COUNT (*) FROM t\")\n",
    "# Name the columns beign requested \n",
    "cur.fetchone()[0]"
   ]
  },
  {
   "cell_type": "code",
   "execution_count": 28,
   "id": "fd62495a-f45b-4f80-86ff-a0fb4afc20d5",
   "metadata": {
    "tags": []
   },
   "outputs": [
    {
     "data": {
      "text/plain": [
       "[('barr', 71.30000305175781, -156.60000610351562),\n",
       " ('burn', 55.20000076293945, -84.30000305175781),\n",
       " ('bylo', 73.19999694824219, -80.0)]"
      ]
     },
     "execution_count": 28,
     "metadata": {},
     "output_type": "execute_result"
    }
   ],
   "source": [
    "cur.execute(\"SELECT Code, Latitude, Longitude FROM Site LIMIT 3\")\n",
    "cur.fetchall()"
   ]
  },
  {
   "cell_type": "markdown",
   "id": "2f0cca00-6807-4801-a1e1-f0faa4f41390",
   "metadata": {},
   "source": [
    "## Parameterized queries "
   ]
  },
  {
   "cell_type": "code",
   "execution_count": 29,
   "id": "34b5233f-76a2-4e51-8b47-3e185684dfaf",
   "metadata": {
    "tags": []
   },
   "outputs": [
    {
     "data": {
      "text/plain": [
       "[('agsq',), ('amcr',), ('amgp',)]"
      ]
     },
     "execution_count": 29,
     "metadata": {},
     "output_type": "execute_result"
    }
   ],
   "source": [
    "cur.execute(\"SELECT Code FROM Species LIMIT 3\")\n",
    "cur.fetchall()"
   ]
  },
  {
   "cell_type": "markdown",
   "id": "10978748-a332-47b1-8401-7d3dae30d79d",
   "metadata": {},
   "source": [
    "Hypothesize: we want to know the number of nests for each species (and were not going to use GROUP BY)"
   ]
  },
  {
   "cell_type": "code",
   "execution_count": 30,
   "id": "55615077-0abd-48fd-b985-c70949865a2d",
   "metadata": {
    "tags": []
   },
   "outputs": [
    {
     "data": {
      "text/plain": [
       "[(0,)]"
      ]
     },
     "execution_count": 30,
     "metadata": {},
     "output_type": "execute_result"
    }
   ],
   "source": [
    "species = \"agsq\"\n",
    "query = \"SELECT COUNT (*) FROM Bird_nests WHERE Species = ?\"\n",
    "\n",
    "# Plug in 'species' where ever there is a question mark\n",
    "cur.execute(query, [species])\n",
    "cur.fetchall()"
   ]
  },
  {
   "cell_type": "markdown",
   "id": "252cbf5f-8e8a-441f-a127-13256dc5daca",
   "metadata": {},
   "source": [
    "Let's put two things together: query for all species, and loop over those species, getting the number of nest for each species "
   ]
  },
  {
   "cell_type": "code",
   "execution_count": 33,
   "id": "eeb1ee21-e82e-4ff6-b522-81d53f587b99",
   "metadata": {
    "tags": []
   },
   "outputs": [
    {
     "name": "stdout",
     "output_type": "stream",
     "text": [
      "Species agsq has 0 nests\n",
      "Species amcr has 0 nests\n",
      "Species amgp has 29 nests\n",
      "Species arfo has 0 nests\n",
      "Species arte has 0 nests\n",
      "Species basa has 0 nests\n",
      "Species bbis has 0 nests\n",
      "Species bbpl has 43 nests\n",
      "Species bbsa has 0 nests\n",
      "Species besw has 0 nests\n",
      "Species bltu has 0 nests\n",
      "Species brant has 0 nests\n",
      "Species brbe has 0 nests\n",
      "Species brle has 0 nests\n",
      "Species btcu has 0 nests\n",
      "Species btgo has 3 nests\n",
      "Species cole has 0 nests\n",
      "Species cora has 0 nests\n",
      "Species cosn has 0 nests\n",
      "Species crpl has 2 nests\n",
      "Species cusa has 0 nests\n",
      "Species dunl has 101 nests\n",
      "Species eywa has 0 nests\n",
      "Species glgu has 0 nests\n",
      "Species goea has 0 nests\n",
      "Species gwfg has 0 nests\n",
      "Species gwgu has 0 nests\n",
      "Species gwte has 0 nests\n",
      "Species gyrf has 0 nests\n",
      "Species herg has 3 nests\n",
      "Species hore has 0 nests\n",
      "Species hugo has 0 nests\n",
      "Species kill has 0 nests\n",
      "Species lalo has 33 nests\n",
      "Species lbdo has 1 nests\n",
      "Species lesa has 0 nests\n",
      "Species leye has 0 nests\n",
      "Species list has 0 nests\n",
      "Species ltdu has 0 nests\n",
      "Species ltja has 0 nests\n",
      "Species ltwe has 0 nests\n",
      "Species mago has 0 nests\n",
      "Species megu has 0 nests\n",
      "Species merl has 0 nests\n",
      "Species noha has 0 nests\n",
      "Species nopi has 0 nests\n",
      "Species nrvo has 0 nests\n",
      "Species nsho has 0 nests\n",
      "Species pagp has 0 nests\n",
      "Species paja has 2 nests\n",
      "Species palo has 0 nests\n",
      "Species pefa has 0 nests\n",
      "Species pesa has 14 nests\n",
      "Species pobe has 0 nests\n",
      "Species poja has 0 nests\n",
      "Species pusa has 0 nests\n",
      "Species refo has 0 nests\n",
      "Species rekn has 0 nests\n",
      "Species reph has 80 nests\n",
      "Species rlha has 0 nests\n",
      "Species rnph has 74 nests\n",
      "Species rnst has 0 nests\n",
      "Species rosa has 0 nests\n",
      "Species rtpi has 0 nests\n",
      "Species ruff has 0 nests\n",
      "Species rutu has 30 nests\n",
      "Species sacr has 0 nests\n",
      "Species sagu has 0 nests\n",
      "Species sand has 0 nests\n",
      "Species savs has 0 nests\n",
      "Species sbdo has 1 nests\n",
      "Species sbgu has 0 nests\n",
      "Species seow has 0 nests\n",
      "Species sepl has 105 nests\n",
      "Species sesa has 485 nests\n",
      "Species snow has 0 nests\n",
      "Species spei has 0 nests\n",
      "Species spre has 0 nests\n",
      "Species spsa has 0 nests\n",
      "Species spts has 0 nests\n",
      "Species stsa has 0 nests\n",
      "Species stwe has 0 nests\n",
      "Species test has 1 nests\n",
      "Species thgu has 0 nests\n",
      "Species tusw has 0 nests\n",
      "Species tuvo has 0 nests\n",
      "Species unfa has 0 nests\n",
      "Species ungu has 0 nests\n",
      "Species unja has 0 nests\n",
      "Species unle has 0 nests\n",
      "Species unra has 0 nests\n",
      "Species vegu has 0 nests\n",
      "Species wesa has 457 nests\n",
      "Species whim has 0 nests\n",
      "Species wipt has 0 nests\n",
      "Species wisn has 0 nests\n",
      "Species wolv has 0 nests\n",
      "Species wosa has 0 nests\n",
      "Species wrsa has 83 nests\n"
     ]
    }
   ],
   "source": [
    "cur.execute(\"SELECT Code FROM Species\")\n",
    "for row in cur.fetchall(): # In any other database, could iterate over cursor \n",
    "    species_code = row[0]\n",
    "    cur2 = conn.cursor() # add another cursor \n",
    "    cur2.execute(query, [species_code])\n",
    "    num_nests = cur2.fetchone()[0]\n",
    "    print(f\"Species {species_code} has {num_nests} nests\")\n",
    "    cur2.close()"
   ]
  },
  {
   "cell_type": "markdown",
   "id": "8a6754b1-d8ca-45ab-a038-e50647d48bb1",
   "metadata": {},
   "source": [
    "There are lots of convenience functions and packages to use with duckdb"
   ]
  },
  {
   "cell_type": "code",
   "execution_count": 34,
   "id": "b5688c74-90cb-45d6-bad9-fff92a7ed462",
   "metadata": {
    "tags": []
   },
   "outputs": [],
   "source": [
    "import pandas as pd"
   ]
  },
  {
   "cell_type": "code",
   "execution_count": 35,
   "id": "828a7a67-5ab8-41d5-9cca-648751556228",
   "metadata": {
    "tags": []
   },
   "outputs": [
    {
     "name": "stderr",
     "output_type": "stream",
     "text": [
      "/opt/anaconda3/lib/python3.9/site-packages/pandas/io/sql.py:762: UserWarning: pandas only support SQLAlchemy connectable(engine/connection) ordatabase string URI or sqlite3 DBAPI2 connectionother DBAPI2 objects are not tested, please consider using SQLAlchemy\n",
      "  warnings.warn(\n"
     ]
    }
   ],
   "source": [
    "# Read in dataframe from database\n",
    "# Give it query and connection to database\n",
    "df = pd.read_sql(\"SELECT * FROM Site\", conn)"
   ]
  },
  {
   "cell_type": "markdown",
   "id": "198ba4cb-8395-408d-bea1-ca0b73adfd15",
   "metadata": {},
   "source": [
    "Gives a warning, but it does work! "
   ]
  },
  {
   "cell_type": "code",
   "execution_count": 37,
   "id": "ef6c1e7a-5fb1-4450-a6aa-533e257ff0ad",
   "metadata": {
    "tags": []
   },
   "outputs": [
    {
     "data": {
      "text/html": [
       "<div>\n",
       "<style scoped>\n",
       "    .dataframe tbody tr th:only-of-type {\n",
       "        vertical-align: middle;\n",
       "    }\n",
       "\n",
       "    .dataframe tbody tr th {\n",
       "        vertical-align: top;\n",
       "    }\n",
       "\n",
       "    .dataframe thead th {\n",
       "        text-align: right;\n",
       "    }\n",
       "</style>\n",
       "<table border=\"1\" class=\"dataframe\">\n",
       "  <thead>\n",
       "    <tr style=\"text-align: right;\">\n",
       "      <th></th>\n",
       "      <th>Code</th>\n",
       "      <th>Site_name</th>\n",
       "      <th>Location</th>\n",
       "      <th>Latitude</th>\n",
       "      <th>Longitude</th>\n",
       "      <th>Area</th>\n",
       "    </tr>\n",
       "  </thead>\n",
       "  <tbody>\n",
       "    <tr>\n",
       "      <th>0</th>\n",
       "      <td>barr</td>\n",
       "      <td>Barrow</td>\n",
       "      <td>Alaska, USA</td>\n",
       "      <td>71.300003</td>\n",
       "      <td>-156.600006</td>\n",
       "      <td>220.399994</td>\n",
       "    </tr>\n",
       "    <tr>\n",
       "      <th>1</th>\n",
       "      <td>burn</td>\n",
       "      <td>Burntpoint Creek</td>\n",
       "      <td>Ontario, Canada</td>\n",
       "      <td>55.200001</td>\n",
       "      <td>-84.300003</td>\n",
       "      <td>63.000000</td>\n",
       "    </tr>\n",
       "    <tr>\n",
       "      <th>2</th>\n",
       "      <td>bylo</td>\n",
       "      <td>Bylot Island</td>\n",
       "      <td>Nunavut, Canada</td>\n",
       "      <td>73.199997</td>\n",
       "      <td>-80.000000</td>\n",
       "      <td>723.599976</td>\n",
       "    </tr>\n",
       "    <tr>\n",
       "      <th>3</th>\n",
       "      <td>cakr</td>\n",
       "      <td>Cape Krusenstern</td>\n",
       "      <td>Alaska, USA</td>\n",
       "      <td>67.099998</td>\n",
       "      <td>-163.500000</td>\n",
       "      <td>54.099998</td>\n",
       "    </tr>\n",
       "    <tr>\n",
       "      <th>4</th>\n",
       "      <td>cari</td>\n",
       "      <td>Canning River Delta</td>\n",
       "      <td>Alaska, USA</td>\n",
       "      <td>70.099998</td>\n",
       "      <td>-145.800003</td>\n",
       "      <td>722.000000</td>\n",
       "    </tr>\n",
       "    <tr>\n",
       "      <th>5</th>\n",
       "      <td>chau</td>\n",
       "      <td>Chaun River Delta</td>\n",
       "      <td>Chukotka, Russia</td>\n",
       "      <td>68.800003</td>\n",
       "      <td>170.600006</td>\n",
       "      <td>248.199997</td>\n",
       "    </tr>\n",
       "    <tr>\n",
       "      <th>6</th>\n",
       "      <td>chur</td>\n",
       "      <td>Churchill</td>\n",
       "      <td>Manitoba, Canada</td>\n",
       "      <td>58.700001</td>\n",
       "      <td>-93.800003</td>\n",
       "      <td>866.900024</td>\n",
       "    </tr>\n",
       "    <tr>\n",
       "      <th>7</th>\n",
       "      <td>coat</td>\n",
       "      <td>Coats Island</td>\n",
       "      <td>Nunavut, Canada</td>\n",
       "      <td>62.900002</td>\n",
       "      <td>-82.500000</td>\n",
       "      <td>1239.099976</td>\n",
       "    </tr>\n",
       "    <tr>\n",
       "      <th>8</th>\n",
       "      <td>colv</td>\n",
       "      <td>Colville River Delta</td>\n",
       "      <td>Alaska, USA</td>\n",
       "      <td>70.400002</td>\n",
       "      <td>-150.699997</td>\n",
       "      <td>324.799988</td>\n",
       "    </tr>\n",
       "    <tr>\n",
       "      <th>9</th>\n",
       "      <td>eaba</td>\n",
       "      <td>East Bay</td>\n",
       "      <td>Nunavut, Canada</td>\n",
       "      <td>64.000000</td>\n",
       "      <td>-81.699997</td>\n",
       "      <td>1205.500000</td>\n",
       "    </tr>\n",
       "    <tr>\n",
       "      <th>10</th>\n",
       "      <td>iglo</td>\n",
       "      <td>Igloolik</td>\n",
       "      <td>Nunavut, Canada</td>\n",
       "      <td>69.400002</td>\n",
       "      <td>-81.599998</td>\n",
       "      <td>59.799999</td>\n",
       "    </tr>\n",
       "    <tr>\n",
       "      <th>11</th>\n",
       "      <td>ikpi</td>\n",
       "      <td>Ikpikpuk</td>\n",
       "      <td>Alaska, USA</td>\n",
       "      <td>70.599998</td>\n",
       "      <td>-154.699997</td>\n",
       "      <td>174.100006</td>\n",
       "    </tr>\n",
       "    <tr>\n",
       "      <th>12</th>\n",
       "      <td>lkri</td>\n",
       "      <td>Lower Khatanga River</td>\n",
       "      <td>Krasnoyarsk, Russia</td>\n",
       "      <td>72.900002</td>\n",
       "      <td>106.099998</td>\n",
       "      <td>270.899994</td>\n",
       "    </tr>\n",
       "    <tr>\n",
       "      <th>13</th>\n",
       "      <td>made</td>\n",
       "      <td>Mackenzie River Delta</td>\n",
       "      <td>Northwest Territories, Canada</td>\n",
       "      <td>69.400002</td>\n",
       "      <td>-135.000000</td>\n",
       "      <td>667.299988</td>\n",
       "    </tr>\n",
       "    <tr>\n",
       "      <th>14</th>\n",
       "      <td>nome</td>\n",
       "      <td>Nome</td>\n",
       "      <td>Alaska, USA</td>\n",
       "      <td>64.400002</td>\n",
       "      <td>-164.899994</td>\n",
       "      <td>90.099998</td>\n",
       "    </tr>\n",
       "    <tr>\n",
       "      <th>15</th>\n",
       "      <td>prba</td>\n",
       "      <td>Prudhoe Bay</td>\n",
       "      <td>Alaska, USA</td>\n",
       "      <td>70.300003</td>\n",
       "      <td>-148.600006</td>\n",
       "      <td>120.000000</td>\n",
       "    </tr>\n",
       "  </tbody>\n",
       "</table>\n",
       "</div>"
      ],
      "text/plain": [
       "    Code              Site_name                       Location   Latitude  \\\n",
       "0   barr                 Barrow                    Alaska, USA  71.300003   \n",
       "1   burn       Burntpoint Creek                Ontario, Canada  55.200001   \n",
       "2   bylo           Bylot Island                Nunavut, Canada  73.199997   \n",
       "3   cakr       Cape Krusenstern                    Alaska, USA  67.099998   \n",
       "4   cari    Canning River Delta                    Alaska, USA  70.099998   \n",
       "5   chau      Chaun River Delta               Chukotka, Russia  68.800003   \n",
       "6   chur              Churchill               Manitoba, Canada  58.700001   \n",
       "7   coat           Coats Island                Nunavut, Canada  62.900002   \n",
       "8   colv   Colville River Delta                    Alaska, USA  70.400002   \n",
       "9   eaba               East Bay                Nunavut, Canada  64.000000   \n",
       "10  iglo               Igloolik                Nunavut, Canada  69.400002   \n",
       "11  ikpi               Ikpikpuk                    Alaska, USA  70.599998   \n",
       "12  lkri   Lower Khatanga River            Krasnoyarsk, Russia  72.900002   \n",
       "13  made  Mackenzie River Delta  Northwest Territories, Canada  69.400002   \n",
       "14  nome                   Nome                    Alaska, USA  64.400002   \n",
       "15  prba            Prudhoe Bay                    Alaska, USA  70.300003   \n",
       "\n",
       "     Longitude         Area  \n",
       "0  -156.600006   220.399994  \n",
       "1   -84.300003    63.000000  \n",
       "2   -80.000000   723.599976  \n",
       "3  -163.500000    54.099998  \n",
       "4  -145.800003   722.000000  \n",
       "5   170.600006   248.199997  \n",
       "6   -93.800003   866.900024  \n",
       "7   -82.500000  1239.099976  \n",
       "8  -150.699997   324.799988  \n",
       "9   -81.699997  1205.500000  \n",
       "10  -81.599998    59.799999  \n",
       "11 -154.699997   174.100006  \n",
       "12  106.099998   270.899994  \n",
       "13 -135.000000   667.299988  \n",
       "14 -164.899994    90.099998  \n",
       "15 -148.600006   120.000000  "
      ]
     },
     "execution_count": 37,
     "metadata": {},
     "output_type": "execute_result"
    }
   ],
   "source": [
    "# View dataframe \n",
    "df"
   ]
  },
  {
   "cell_type": "code",
   "execution_count": null,
   "id": "4a49ce86-4b57-4376-aed3-4524053542fa",
   "metadata": {},
   "outputs": [],
   "source": []
  }
 ],
 "metadata": {
  "kernelspec": {
   "display_name": "Anaconda 3 (Base)",
   "language": "python",
   "name": "base"
  },
  "language_info": {
   "codemirror_mode": {
    "name": "ipython",
    "version": 3
   },
   "file_extension": ".py",
   "mimetype": "text/x-python",
   "name": "python",
   "nbconvert_exporter": "python",
   "pygments_lexer": "ipython3",
   "version": "3.9.13"
  }
 },
 "nbformat": 4,
 "nbformat_minor": 5
}
